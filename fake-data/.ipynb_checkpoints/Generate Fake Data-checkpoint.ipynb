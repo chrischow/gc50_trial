{
 "cells": [
  {
   "cell_type": "markdown",
   "metadata": {},
   "source": [
    "# Generate Fake Data\n",
    "Concept:\n",
    "* Input 1,000 fake entries\n",
    "\n",
    "Data Structure:\n",
    "1. Timestamp\n",
    "2. Name: Use 50 different names\n",
    "3. Callsign/Alias: Use 50 different aliases\n",
    "4. Which group are you from?\n",
    "5. Which activity have you chosen to clock the mileage?\n",
    "6. How far did you clock? (km)\n",
    "7. Share with us a picture/screenshot of your accomplishment!\n",
    "8. Actual Mileage"
   ]
  },
  {
   "cell_type": "code",
   "execution_count": 1,
   "metadata": {},
   "outputs": [],
   "source": [
    "import datetime\n",
    "import numpy as np\n",
    "import pandas as pd\n",
    "\n",
    "from faker import Faker"
   ]
  },
  {
   "cell_type": "markdown",
   "metadata": {},
   "source": [
    "## Configure Form Options"
   ]
  },
  {
   "cell_type": "markdown",
   "metadata": {},
   "source": [
    "### Names & Aliases"
   ]
  },
  {
   "cell_type": "code",
   "execution_count": 2,
   "metadata": {},
   "outputs": [],
   "source": [
    "Faker.seed(123)\n",
    "fake = Faker()\n",
    "\n",
    "names = []\n",
    "\n",
    "for _ in range(100):\n",
    "    names.append(fake.name())"
   ]
  },
  {
   "cell_type": "code",
   "execution_count": 3,
   "metadata": {},
   "outputs": [],
   "source": [
    "def get_alias(name):\n",
    "    full_name = name.split(' ')\n",
    "    return full_name[0][0] + '. ' + full_name[1]\n",
    "    \n",
    "aliases = [get_alias(name) for name in names]"
   ]
  },
  {
   "cell_type": "markdown",
   "metadata": {},
   "source": [
    "### Groups"
   ]
  },
  {
   "cell_type": "code",
   "execution_count": 4,
   "metadata": {},
   "outputs": [],
   "source": [
    "groups = [\n",
    "    'ABM', 'ADSS/ADWS/ADWO', 'ADW', 'AFE', 'AOSX/AOS', 'ATC'\n",
    "]"
   ]
  },
  {
   "cell_type": "markdown",
   "metadata": {},
   "source": [
    "### Combine Names, Aliases, and Groups"
   ]
  },
  {
   "cell_type": "code",
   "execution_count": 5,
   "metadata": {},
   "outputs": [],
   "source": [
    "people = pd.DataFrame()\n",
    "people['Name'] = names\n",
    "people['Alias'] = aliases\n",
    "\n",
    "np.random.seed(123)\n",
    "people['Group'] = np.array(groups)[list(np.random.randint(0,6, 100))]"
   ]
  },
  {
   "cell_type": "markdown",
   "metadata": {},
   "source": [
    "### Activities"
   ]
  },
  {
   "cell_type": "code",
   "execution_count": 6,
   "metadata": {},
   "outputs": [],
   "source": [
    "activities = [\n",
    "    'Walk', 'Run', 'Cycle', 'Swim'\n",
    "]"
   ]
  },
  {
   "cell_type": "markdown",
   "metadata": {},
   "source": [
    "## Generate Data"
   ]
  },
  {
   "cell_type": "code",
   "execution_count": 7,
   "metadata": {},
   "outputs": [],
   "source": [
    "fake_data = pd.DataFrame()\n",
    "\n",
    "# Generate timestamps\n",
    "Faker.seed(456)\n",
    "fake = Faker()\n",
    "fake_data['timestamp'] = [fake.date_time_between(datetime.datetime(2020, 10, 20), '+50d') for _ in range(1000)]\n",
    "\n",
    "# Input names\n",
    "np.random.seed(456)\n",
    "people_id = np.random.randint(0, 100, 1000)\n",
    "fake_data['name'] = people.Name.loc[people_id].tolist()\n",
    "fake_data['alias'] = people.Alias.loc[people_id].tolist()\n",
    "fake_data['group'] = people.Group.loc[people_id].tolist()\n",
    "\n",
    "# Generate activity\n",
    "np.random.seed(789)\n",
    "fake_data['activity'] = np.array(activities)[np.random.randint(0,4, 1000)]\n",
    "\n",
    "# Generate raw mileage clocked\n",
    "np.random.seed(123)\n",
    "fake_data['raw_mileage'] = np.random.randint(1,11, 1000)\n",
    "\n",
    "# Create empty column for picture\n",
    "fake_data['share_img'] = ''\n",
    "\n",
    "# Sort by date and time\n",
    "fake_data = fake_data.sort_values('timestamp').reset_index(drop=True)"
   ]
  },
  {
   "cell_type": "code",
   "execution_count": 8,
   "metadata": {},
   "outputs": [],
   "source": [
    "# Compute mileage\n",
    "fake_data['actual_mileage'] = np.where(\n",
    "    fake_data.activity=='Swim', fake_data.raw_mileage * 6,\n",
    "    np.where(\n",
    "        fake_data.activity=='Cycle', fake_data.raw_mileage / 4,\n",
    "        fake_data.raw_mileage\n",
    "    )\n",
    ")"
   ]
  },
  {
   "cell_type": "code",
   "execution_count": 16,
   "metadata": {},
   "outputs": [],
   "source": [
    "# Output\n",
    "fake_data.to_csv('fake_data.csv', index=False)"
   ]
  }
 ],
 "metadata": {
  "kernelspec": {
   "display_name": "Python 3",
   "language": "python",
   "name": "python3"
  },
  "language_info": {
   "codemirror_mode": {
    "name": "ipython",
    "version": 3
   },
   "file_extension": ".py",
   "mimetype": "text/x-python",
   "name": "python",
   "nbconvert_exporter": "python",
   "pygments_lexer": "ipython3",
   "version": "3.7.3"
  }
 },
 "nbformat": 4,
 "nbformat_minor": 4
}
